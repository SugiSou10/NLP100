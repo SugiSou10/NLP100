{
  "nbformat": 4,
  "nbformat_minor": 0,
  "metadata": {
    "colab": {
      "provenance": []
    },
    "kernelspec": {
      "name": "python3",
      "display_name": "Python 3"
    },
    "language_info": {
      "name": "python"
    }
  },
  "cells": [
    {
      "cell_type": "markdown",
      "source": [
        "05"
      ],
      "metadata": {
        "id": "QFunkVV2pAQI"
      }
    },
    {
      "cell_type": "code",
      "execution_count": 2,
      "metadata": {
        "colab": {
          "base_uri": "https://localhost:8080/"
        },
        "id": "rsy-V_OZoy7e",
        "outputId": "efe3e9dd-8a47-4e75-870f-1de9de4f4177"
      },
      "outputs": [
        {
          "output_type": "stream",
          "name": "stdout",
          "text": [
            "文字bi-gram： ['I ', ' a', 'am', 'm ', ' a', 'an', 'n ', ' N', 'NL', 'LP', 'Pe', 'er']\n",
            "単語bi-gram： [['I', 'am'], ['am', 'an'], ['an', 'NLPer']]\n"
          ]
        }
      ],
      "source": [
        "string = 'I am an NLPer'\n",
        "word = string.split(' ')\n",
        "\n",
        "def n_gram(n, words):\n",
        "  return [words[i:i + n] for i in range(len(words) - n + 1)]\n",
        "\n",
        "print('文字bi-gram：', n_gram(2, string))\n",
        "print('単語bi-gram：', n_gram(2, word))"
      ]
    },
    {
      "cell_type": "markdown",
      "source": [
        "06"
      ],
      "metadata": {
        "id": "aXkLo2n8w14r"
      }
    },
    {
      "cell_type": "code",
      "source": [
        "str1 = 'paraparaparadise'\n",
        "str2 = 'paragraph'\n",
        "\n",
        "def n_gram(n, words):\n",
        "  return [words[i:i + n] for i in range(len(words) - n + 1)]\n",
        "\n",
        "X = set(n_gram(2, str1)) # set型に変換\n",
        "Y = set(n_gram(2, str2))\n",
        "print('X：', X)\n",
        "print('Y：', Y)\n",
        "\n",
        "print('和集合：', X.union(Y))\n",
        "print('積集合：', X.intersection(Y))\n",
        "print('差集合：', X.difference(Y))\n",
        "print('seがXに含まれるか：', {'se'} <= X)\n",
        "print('seがYに含まれるか：', {'se'} <= Y)"
      ],
      "metadata": {
        "colab": {
          "base_uri": "https://localhost:8080/"
        },
        "id": "0dIGt3v2w4Zy",
        "outputId": "57cc7ce0-5d4b-4916-dded-61d3bf0896df"
      },
      "execution_count": null,
      "outputs": [
        {
          "output_type": "stream",
          "name": "stdout",
          "text": [
            "X： {'se', 'pa', 'ar', 'ad', 'ap', 'ra', 'is', 'di'}\n",
            "Y： {'gr', 'ph', 'pa', 'ar', 'ag', 'ra', 'ap'}\n",
            "和集合： {'gr', 'ph', 'se', 'pa', 'ar', 'ad', 'ap', 'ra', 'is', 'ag', 'di'}\n",
            "積集合： {'pa', 'ar', 'ap', 'ra'}\n",
            "差集合： {'is', 'ad', 'di', 'se'}\n",
            "seがXに含まれるか： True\n",
            "seがYに含まれるか： False\n"
          ]
        }
      ]
    },
    {
      "cell_type": "markdown",
      "source": [
        "07"
      ],
      "metadata": {
        "id": "iPfPIMQ11HPd"
      }
    },
    {
      "cell_type": "code",
      "source": [
        "def temperature(x, y, z):\n",
        "  return str(x)+'時の'+str(y)+'は'+str(z)\n",
        "\n",
        "print(temperature(12, '気温', 22.4))"
      ],
      "metadata": {
        "colab": {
          "base_uri": "https://localhost:8080/"
        },
        "id": "hXevFnJN1IqU",
        "outputId": "b4d07d76-00b5-4726-802b-1521c72f9e1f"
      },
      "execution_count": 7,
      "outputs": [
        {
          "output_type": "stream",
          "name": "stdout",
          "text": [
            "12時の気温は22.4\n"
          ]
        }
      ]
    },
    {
      "cell_type": "markdown",
      "source": [
        "08"
      ],
      "metadata": {
        "id": "qLxB7EFQ1yX7"
      }
    },
    {
      "cell_type": "code",
      "source": [
        "def cipher(words):\n",
        "  cipher_text = ''\n",
        "  for i in words:\n",
        "    if i.islower(): # 小文字判定\n",
        "      cipher_text += chr(219 - ord(i)) # ord()：文字から文字コードを取得、 chr()：文字コードから文字を取得\n",
        "    else:\n",
        "      cipher_text += i\n",
        "  return cipher_text\n",
        "\n",
        "string = cipher('I have a pen')\n",
        "print('暗号化：', string)\n",
        "string = cipher(string)\n",
        "print('復号化：', string)"
      ],
      "metadata": {
        "colab": {
          "base_uri": "https://localhost:8080/"
        },
        "id": "g48tt8Qq1zdm",
        "outputId": "b161a483-30a5-4ecc-ab11-1b909d6c8f25"
      },
      "execution_count": 9,
      "outputs": [
        {
          "output_type": "stream",
          "name": "stdout",
          "text": [
            "暗号化： I szev z kvm\n",
            "復号化： I have a pen\n"
          ]
        }
      ]
    },
    {
      "cell_type": "markdown",
      "source": [
        "09"
      ],
      "metadata": {
        "id": "Mab4aQnW6Qnh"
      }
    },
    {
      "cell_type": "code",
      "source": [
        "import random\n",
        "\n",
        "def shuffle(string):\n",
        "  ans = ''\n",
        "  for i in string.split(' '):\n",
        "    l = []\n",
        "    if len(i) > 4:\n",
        "      for j in range(1, len(i) - 1):\n",
        "        l.append(i[j])\n",
        "      random.shuffle(l)\n",
        "      ans += i[0] + ''.join(l) + i[len(i) - 1] + ' '\n",
        "    else:\n",
        "      ans += i + ' '\n",
        "\n",
        "  return ans\n",
        "\n",
        "string = 'I couldn’t believe that I could actually understand what I was reading : the phenomenal power of the human mind .'\n",
        "\n",
        "print(shuffle(string))"
      ],
      "metadata": {
        "colab": {
          "base_uri": "https://localhost:8080/"
        },
        "id": "5HukQS8X6Rr6",
        "outputId": "19c68827-f786-4b7b-bd3a-73201d5b126f"
      },
      "execution_count": 11,
      "outputs": [
        {
          "output_type": "stream",
          "name": "stdout",
          "text": [
            "I cdounl’t blievee that I cloud alcatuly utserdannd what I was rndieag : the penaenmhol pwoer of the hmaun mind . \n"
          ]
        }
      ]
    }
  ]
}