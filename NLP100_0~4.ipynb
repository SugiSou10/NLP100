{
  "nbformat": 4,
  "nbformat_minor": 0,
  "metadata": {
    "colab": {
      "provenance": []
    },
    "kernelspec": {
      "name": "python3",
      "display_name": "Python 3"
    },
    "language_info": {
      "name": "python"
    }
  },
  "cells": [
    {
      "cell_type": "markdown",
      "source": [
        "0"
      ],
      "metadata": {
        "id": "QVIkshTAYvM6"
      }
    },
    {
      "cell_type": "code",
      "execution_count": null,
      "metadata": {
        "colab": {
          "base_uri": "https://localhost:8080/",
          "height": 35
        },
        "id": "dJV-W0h_wgb_",
        "outputId": "06c3c1b2-d36b-4fcc-f3c1-fc0fe427056d"
      },
      "outputs": [
        {
          "output_type": "execute_result",
          "data": {
            "text/plain": [
              "'esr'"
            ],
            "application/vnd.google.colaboratory.intrinsic+json": {
              "type": "string"
            }
          },
          "metadata": {},
          "execution_count": 1
        }
      ],
      "source": [
        "string = \"stressed\"\n",
        "rev = string[::-1] #[start:stop:step]\n",
        "rev"
      ]
    },
    {
      "cell_type": "markdown",
      "source": [
        "1"
      ],
      "metadata": {
        "id": "mehlUj3eYycy"
      }
    },
    {
      "cell_type": "code",
      "source": [
        "string = 'パタトクカシーー'\n",
        "\n",
        "ans = string[::2]\n",
        "ans"
      ],
      "metadata": {
        "colab": {
          "base_uri": "https://localhost:8080/",
          "height": 35
        },
        "id": "ZH6Odbz4Yzv9",
        "outputId": "d1ff69dd-a3cf-4b34-af2a-fee43a4945bb"
      },
      "execution_count": null,
      "outputs": [
        {
          "output_type": "execute_result",
          "data": {
            "text/plain": [
              "'パトカー'"
            ],
            "application/vnd.google.colaboratory.intrinsic+json": {
              "type": "string"
            }
          },
          "metadata": {},
          "execution_count": 2
        }
      ]
    },
    {
      "cell_type": "markdown",
      "source": [
        "2"
      ],
      "metadata": {
        "id": "b8TwTUZXY896"
      }
    },
    {
      "cell_type": "code",
      "source": [
        "str1 = 'パトカー'\n",
        "str2 = 'タクシー'\n",
        "\n",
        "ans = ''\n",
        "for i in range(len(str1)): # zip:複数のリスト，文字を同時に取得したい場合に使用する関数\n",
        "  ans += str1[i] + str2[i]\n",
        "ans"
      ],
      "metadata": {
        "colab": {
          "base_uri": "https://localhost:8080/",
          "height": 35
        },
        "id": "kEYjExBYY8ls",
        "outputId": "8f075899-320a-4be2-e203-3b8414134e7d"
      },
      "execution_count": null,
      "outputs": [
        {
          "output_type": "execute_result",
          "data": {
            "text/plain": [
              "'パタトクカシーー'"
            ],
            "application/vnd.google.colaboratory.intrinsic+json": {
              "type": "string"
            }
          },
          "metadata": {},
          "execution_count": 4
        }
      ]
    },
    {
      "cell_type": "markdown",
      "source": [
        "3"
      ],
      "metadata": {
        "id": "JsDR460aZAq5"
      }
    },
    {
      "cell_type": "code",
      "source": [
        "import re\n",
        "\n",
        "string = 'Now I need a drink, alcoholic of course, after the heavy lectures involving quantum mechanics.'\n",
        "\n",
        "string = re.sub('[,.]', '', string) # ,と.を除去\n",
        "word = string.split()\n",
        "ans = []\n",
        "for i in word:\n",
        "  ans.append(len(i))\n",
        "\n",
        "ans"
      ],
      "metadata": {
        "colab": {
          "base_uri": "https://localhost:8080/"
        },
        "id": "sEIIpoFmZBWo",
        "outputId": "6394553b-8256-41ed-8d33-0f12f31fe863"
      },
      "execution_count": null,
      "outputs": [
        {
          "output_type": "execute_result",
          "data": {
            "text/plain": [
              "[3, 1, 4, 1, 5, 9, 2, 6, 5, 3, 5, 8, 9, 7, 9]"
            ]
          },
          "metadata": {},
          "execution_count": 4
        }
      ]
    },
    {
      "cell_type": "markdown",
      "source": [
        "4"
      ],
      "metadata": {
        "id": "A4KCWt_kZD1l"
      }
    },
    {
      "cell_type": "code",
      "source": [
        "string = 'Hi He Lied Because Boron Could Not Oxidize Fluorine. New Nations Might Also Sign Peace Security Clause. Arthur King Can.'\n",
        "one = [1, 5, 6, 7, 8, 9, 15, 16, 19]\n",
        "\n",
        "words = string.split()\n",
        "ans = {} # 空の辞書\n",
        "\n",
        "for i, word in enumerate(words, 1): # インデックスを1から開始\n",
        "  if i in one:\n",
        "    ans[word[:1]] = i\n",
        "  else:\n",
        "    ans[word[:2]] = i\n",
        "\n",
        "ans"
      ],
      "metadata": {
        "colab": {
          "base_uri": "https://localhost:8080/"
        },
        "id": "TX69vx6qZEnk",
        "outputId": "0a01ec31-9c24-4eca-f8a1-b9243b40dbcc"
      },
      "execution_count": null,
      "outputs": [
        {
          "output_type": "execute_result",
          "data": {
            "text/plain": [
              "{'H': 1,\n",
              " 'He': 2,\n",
              " 'Li': 3,\n",
              " 'Be': 4,\n",
              " 'B': 5,\n",
              " 'C': 6,\n",
              " 'N': 7,\n",
              " 'O': 8,\n",
              " 'F': 9,\n",
              " 'Ne': 10,\n",
              " 'Na': 11,\n",
              " 'Mi': 12,\n",
              " 'Al': 13,\n",
              " 'Si': 14,\n",
              " 'P': 15,\n",
              " 'S': 16,\n",
              " 'Cl': 17,\n",
              " 'Ar': 18,\n",
              " 'K': 19,\n",
              " 'Ca': 20}"
            ]
          },
          "metadata": {},
          "execution_count": 3
        }
      ]
    }
  ]
}