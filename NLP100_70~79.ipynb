{
 "cells": [
  {
   "attachments": {},
   "cell_type": "markdown",
   "metadata": {},
   "source": [
    "70.単語ベクトルの和による特徴量"
   ]
  },
  {
   "cell_type": "code",
   "execution_count": 4,
   "metadata": {},
   "outputs": [
    {
     "name": "stdout",
     "output_type": "stream",
     "text": [
      "【train】\n",
      "CATEGORY\n",
      "b    4536\n",
      "e    4199\n",
      "t    1217\n",
      "m     720\n",
      "Name: count, dtype: int64 \n",
      "\n",
      "【valid】\n",
      "CATEGORY\n",
      "e    543\n",
      "b    540\n",
      "t    156\n",
      "m     95\n",
      "Name: count, dtype: int64 \n",
      "\n",
      "【test】\n",
      "CATEGORY\n",
      "b    551\n",
      "e    537\n",
      "t    151\n",
      "m     95\n",
      "Name: count, dtype: int64\n"
     ]
    }
   ],
   "source": [
    "# 問題50で構築したデータ\n",
    "import pandas as pd\n",
    "from sklearn.model_selection import train_test_split\n",
    " \n",
    "df = pd.read_csv(\"./NewsAggregatorDataset/newsCorpora.csv\", sep=\"\\t\", header=None,\n",
    "                 names=[\"ID\", \"TITLE\", \"URL\", \"PUBLISHER\", \"CATEGORY\", \"STORY\", \"HOSTNAME\", \"TIMESTAMP\"])\n",
    "\n",
    "# 情報源（PUBLISHER）が”Reuters”, “Huffington Post”, “Businessweek”, “Contactmusic.com”, “Daily Mail”の事例（記事）のみを抽出\n",
    "df = df[df[\"PUBLISHER\"].isin([\"Reuters\", \"Huffington Post\", \"Businessweek\", \"Contactmusic.com\", \"Daily Mail\"])] # .isin()：DataFrameの条件抽出\n",
    "# カテゴリ名と記事見出しの列のみ抽出\n",
    "df = df[[\"TITLE\", \"CATEGORY\"]]\n",
    " \n",
    "# 学習、検証、評価用データに分割\n",
    "train, valid_test = train_test_split(df, test_size=0.2, shuffle=True)\n",
    "valid, test = train_test_split(valid_test, test_size=0.5, shuffle=True)\n",
    " \n",
    "# データをファイルに保存\n",
    "train.to_csv(\"train.txt\", sep=\"\\t\", index=False, header=None)\n",
    "valid.to_csv(\"valid.txt\", sep=\"\\t\", index=False, header=None)\n",
    "test.to_csv(\"test.txt\", sep=\"\\t\", index=False, header=None)\n",
    " \n",
    "print(\"【train】\")\n",
    "print(train[\"CATEGORY\"].value_counts(), \"\\n\") # .value_counts()：要素数をカウント\n",
    "print(\"【valid】\")\n",
    "print(valid[\"CATEGORY\"].value_counts(), \"\\n\")\n",
    "print(\"【test】\")\n",
    "print(test[\"CATEGORY\"].value_counts())"
   ]
  },
  {
   "cell_type": "code",
   "execution_count": 5,
   "metadata": {},
   "outputs": [],
   "source": [
    "# 学習済み単語ベクトルのロード\n",
    "from gensim.models import KeyedVectors\n",
    "model = KeyedVectors.load_word2vec_format('GoogleNews-vectors-negative300.bin.gz', binary=True)"
   ]
  },
  {
   "cell_type": "code",
   "execution_count": 6,
   "metadata": {},
   "outputs": [],
   "source": [
    "import string\n",
    "import torch\n",
    "\n",
    "def transform_w2v(text):\n",
    "  table = str.maketrans(string.punctuation, ' '*len(string.punctuation)) # 記号をスペースに変換\n",
    "  words = text.translate(table).split()  # スペースで分割してリスト化\n",
    "  vec = [model[word] for word in words if word in model]  # 1語ずつベクトル化\n",
    "\n",
    "  return torch.tensor(sum(vec) / len(vec))  # 平均ベクトルをTensor型に変換して出力"
   ]
  },
  {
   "cell_type": "code",
   "execution_count": 7,
   "metadata": {},
   "outputs": [
    {
     "name": "stdout",
     "output_type": "stream",
     "text": [
      "torch.Size([10672, 300])\n",
      "tensor([[ 4.2521e-03,  4.4006e-02, -9.8433e-02,  ..., -7.6803e-03,\n",
      "         -4.1572e-02,  1.4148e-01],\n",
      "        [ 1.0022e-01,  2.6396e-02,  2.3794e-02,  ...,  1.0681e-04,\n",
      "          1.3090e-02, -4.6186e-02],\n",
      "        [ 5.5176e-02,  7.2893e-03, -2.2330e-01,  ..., -4.3480e-02,\n",
      "         -4.3143e-02, -7.1934e-02],\n",
      "        ...,\n",
      "        [ 7.5100e-02, -1.4313e-02, -8.8867e-02,  ..., -1.1011e-02,\n",
      "         -7.0679e-02, -4.1144e-02],\n",
      "        [ 2.0955e-01,  3.6749e-02, -1.2229e-01,  ...,  7.2289e-02,\n",
      "          5.8929e-02, -4.8645e-02],\n",
      "        [ 2.3578e-02,  1.5771e-02, -3.1641e-02,  ..., -3.3340e-02,\n",
      "          3.0435e-02, -1.9507e-02]])\n"
     ]
    }
   ],
   "source": [
    "# 特徴ベクトルの作成\n",
    "X_train = torch.stack([transform_w2v(text) for text in train['TITLE']])\n",
    "X_valid = torch.stack([transform_w2v(text) for text in valid['TITLE']])\n",
    "X_test = torch.stack([transform_w2v(text) for text in test['TITLE']])\n",
    "\n",
    "print(X_train.size())\n",
    "print(X_train)"
   ]
  },
  {
   "cell_type": "code",
   "execution_count": 8,
   "metadata": {},
   "outputs": [
    {
     "name": "stdout",
     "output_type": "stream",
     "text": [
      "torch.Size([10672])\n",
      "tensor([3, 2, 2,  ..., 2, 0, 2])\n"
     ]
    }
   ],
   "source": [
    "# ラベルベクトルの作成\n",
    "category_dict = {'b': 0, 't': 1, 'e':2, 'm':3}\n",
    "y_train = torch.tensor(train['CATEGORY'].map(lambda x: category_dict[x]).values)\n",
    "y_valid = torch.tensor(valid['CATEGORY'].map(lambda x: category_dict[x]).values)\n",
    "y_test = torch.tensor(test['CATEGORY'].map(lambda x: category_dict[x]).values)\n",
    "\n",
    "print(y_train.size())\n",
    "print(y_train)"
   ]
  },
  {
   "cell_type": "code",
   "execution_count": 9,
   "metadata": {},
   "outputs": [],
   "source": [
    "# 保存\n",
    "torch.save(X_train, 'X_train.pt')\n",
    "torch.save(X_valid, 'X_valid.pt')\n",
    "torch.save(X_test, 'X_test.pt')\n",
    "torch.save(y_train, 'y_train.pt')\n",
    "torch.save(y_valid, 'y_valid.pt')\n",
    "torch.save(y_test, 'y_test.pt')"
   ]
  },
  {
   "attachments": {},
   "cell_type": "markdown",
   "metadata": {},
   "source": [
    "71.単層ニューラルネットワークによる予測"
   ]
  },
  {
   "cell_type": "code",
   "execution_count": 10,
   "metadata": {},
   "outputs": [],
   "source": [
    "from torch import nn\n",
    "\n",
    "class SLPNet(nn.Module): # 単層ニューラルネットワークを定義\n",
    "  def __init__(self, input_size, output_size): # ネットワークを構成するレイヤーを定義\n",
    "    super().__init__()\n",
    "    self.fc = nn.Linear(input_size, output_size, bias=False)\n",
    "    nn.init.normal_(self.fc.weight, 0.0, 1.0)  # 正規乱数で重みを初期化\n",
    "\n",
    "  def forward(self, x): # 入力データが順伝播時に通るレイヤーを配置\n",
    "    x = self.fc(x)\n",
    "    return x"
   ]
  },
  {
   "cell_type": "code",
   "execution_count": 11,
   "metadata": {},
   "outputs": [
    {
     "name": "stdout",
     "output_type": "stream",
     "text": [
      "tensor([[0.1313, 0.3593, 0.1002, 0.4092]], grad_fn=<SoftmaxBackward0>)\n"
     ]
    }
   ],
   "source": [
    "model = SLPNet(300, 4)  # 単層ニューラルネットワークの初期化\n",
    "y_hat_1 = torch.softmax(model(X_train[:1]), dim=-1)\n",
    "print(y_hat_1)"
   ]
  },
  {
   "cell_type": "code",
   "execution_count": 12,
   "metadata": {},
   "outputs": [
    {
     "name": "stdout",
     "output_type": "stream",
     "text": [
      "tensor([[0.1313, 0.3593, 0.1002, 0.4092],\n",
      "        [0.0150, 0.6370, 0.2917, 0.0563],\n",
      "        [0.0137, 0.0981, 0.8600, 0.0282],\n",
      "        [0.1956, 0.2105, 0.4710, 0.1229]], grad_fn=<SoftmaxBackward0>)\n"
     ]
    }
   ],
   "source": [
    "Y_hat = torch.softmax(model.forward(X_train[:4]), dim=-1)\n",
    "print(Y_hat)"
   ]
  },
  {
   "attachments": {},
   "cell_type": "markdown",
   "metadata": {},
   "source": [
    "72.損失と勾配の計算"
   ]
  },
  {
   "cell_type": "code",
   "execution_count": 13,
   "metadata": {},
   "outputs": [],
   "source": [
    "criterion = nn.CrossEntropyLoss()"
   ]
  },
  {
   "cell_type": "code",
   "execution_count": 14,
   "metadata": {},
   "outputs": [
    {
     "name": "stdout",
     "output_type": "stream",
     "text": [
      "損失: 0.8935\n",
      "勾配:\n",
      "tensor([[ 0.0006,  0.0058, -0.0129,  ..., -0.0010, -0.0055,  0.0186],\n",
      "        [ 0.0015,  0.0158, -0.0354,  ..., -0.0028, -0.0149,  0.0508],\n",
      "        [ 0.0004,  0.0044, -0.0099,  ..., -0.0008, -0.0042,  0.0142],\n",
      "        [-0.0025, -0.0260,  0.0582,  ...,  0.0045,  0.0246, -0.0836]])\n"
     ]
    }
   ],
   "source": [
    "l_1 = criterion(model(X_train[:1]), y_train[:1])\n",
    "model.zero_grad()  # 勾配をゼロで初期化\n",
    "l_1.backward()  # 誤差逆伝播により勾配を計算\n",
    "print(f'損失: {l_1:.4f}')\n",
    "print(f'勾配:\\n{model.fc.weight.grad}')"
   ]
  },
  {
   "cell_type": "code",
   "execution_count": 15,
   "metadata": {},
   "outputs": [
    {
     "name": "stdout",
     "output_type": "stream",
     "text": [
      "損失: 0.7573\n",
      "勾配:\n",
      "tensor([[-0.0003, -0.0029, -0.0063,  ..., -0.0003,  0.0007,  0.0032],\n",
      "        [ 0.0166,  0.0035, -0.0131,  ..., -0.0017, -0.0004,  0.0024],\n",
      "        [-0.0169,  0.0084,  0.0076,  ...,  0.0011, -0.0077,  0.0171],\n",
      "        [ 0.0005, -0.0089,  0.0118,  ...,  0.0009,  0.0074, -0.0227]])\n"
     ]
    }
   ],
   "source": [
    "l = criterion(model(X_train[:4]), y_train[:4])\n",
    "model.zero_grad()\n",
    "l.backward()\n",
    "print(f'損失: {l:.4f}')\n",
    "print(f'勾配:\\n{model.fc.weight.grad}')"
   ]
  },
  {
   "attachments": {},
   "cell_type": "markdown",
   "metadata": {},
   "source": [
    "73.確率的勾配降下法による学習"
   ]
  },
  {
   "cell_type": "code",
   "execution_count": 16,
   "metadata": {},
   "outputs": [],
   "source": [
    "from torch.utils.data import Dataset\n",
    "\n",
    "class NewsDataset(Dataset):\n",
    "  def __init__(self, X, y):  # datasetの構成要素を指定(特徴ベクトルとラベルベクトル)\n",
    "    self.X = X\n",
    "    self.y = y\n",
    "\n",
    "  def __len__(self):  # len(dataset)で返す値を指定\n",
    "    return len(self.y)\n",
    "\n",
    "  def __getitem__(self, idx):  # dataset[idx]で返す値を指定\n",
    "    return [self.X[idx], self.y[idx]]"
   ]
  },
  {
   "cell_type": "code",
   "execution_count": 17,
   "metadata": {},
   "outputs": [],
   "source": [
    "from torch.utils.data import DataLoader\n",
    "\n",
    "# Datasetの作成\n",
    "dataset_train = NewsDataset(X_train, y_train)\n",
    "dataset_valid = NewsDataset(X_valid, y_valid)\n",
    "dataset_test = NewsDataset(X_test, y_test)\n",
    "\n",
    "# Dataloaderの作成\n",
    "dataloader_train = DataLoader(dataset_train, batch_size=1, shuffle=True)\n",
    "dataloader_valid = DataLoader(dataset_valid, batch_size=len(dataset_valid), shuffle=False)\n",
    "dataloader_test = DataLoader(dataset_test, batch_size=len(dataset_test), shuffle=False)"
   ]
  },
  {
   "cell_type": "code",
   "execution_count": 18,
   "metadata": {},
   "outputs": [
    {
     "name": "stdout",
     "output_type": "stream",
     "text": [
      "cuda:0\n"
     ]
    }
   ],
   "source": [
    "device = torch.device('cuda:0' if torch.cuda.is_available() else 'cpu')\n",
    "print(device)"
   ]
  },
  {
   "cell_type": "code",
   "execution_count": 19,
   "metadata": {},
   "outputs": [
    {
     "name": "stdout",
     "output_type": "stream",
     "text": [
      "epoch: 1, loss_train: 0.4587, loss_valid: 0.3128\n",
      "epoch: 2, loss_train: 0.3154, loss_valid: 0.2836\n",
      "epoch: 3, loss_train: 0.2880, loss_valid: 0.2648\n",
      "epoch: 4, loss_train: 0.2724, loss_valid: 0.2642\n",
      "epoch: 5, loss_train: 0.2626, loss_valid: 0.2576\n",
      "epoch: 6, loss_train: 0.2556, loss_valid: 0.2567\n",
      "epoch: 7, loss_train: 0.2504, loss_valid: 0.2566\n",
      "epoch: 8, loss_train: 0.2458, loss_valid: 0.2550\n",
      "epoch: 9, loss_train: 0.2428, loss_valid: 0.2555\n",
      "epoch: 10, loss_train: 0.2398, loss_valid: 0.2598\n",
      "epoch: 11, loss_train: 0.2376, loss_valid: 0.2554\n",
      "epoch: 12, loss_train: 0.2359, loss_valid: 0.2559\n",
      "epoch: 13, loss_train: 0.2330, loss_valid: 0.2587\n",
      "epoch: 14, loss_train: 0.2318, loss_valid: 0.2616\n",
      "epoch: 15, loss_train: 0.2302, loss_valid: 0.2583\n",
      "epoch: 16, loss_train: 0.2293, loss_valid: 0.2630\n",
      "epoch: 17, loss_train: 0.2286, loss_valid: 0.2621\n",
      "epoch: 18, loss_train: 0.2274, loss_valid: 0.2630\n",
      "epoch: 19, loss_train: 0.2268, loss_valid: 0.2671\n",
      "epoch: 20, loss_train: 0.2261, loss_valid: 0.2647\n"
     ]
    }
   ],
   "source": [
    "# モデルの定義\n",
    "model = SLPNet(300, 4)\n",
    "\n",
    "# 損失関数の定義\n",
    "criterion = nn.CrossEntropyLoss()\n",
    "\n",
    "# オプティマイザの定義\n",
    "optimizer = torch.optim.SGD(model.parameters(), lr=1e-1)\n",
    "\n",
    "# 学習\n",
    "num_epochs = 20\n",
    "for epoch in range(num_epochs):\n",
    "  # 訓練モードに設定\n",
    "  model.train()\n",
    "  loss_train = 0.0\n",
    "  for i, (inputs, labels) in enumerate(dataloader_train):\n",
    "    # 勾配をゼロで初期化\n",
    "    optimizer.zero_grad()\n",
    "\n",
    "    # 順伝播 + 誤差逆伝播 + 重み更新\n",
    "    outputs = model(inputs)\n",
    "    loss = criterion(outputs, labels)\n",
    "    loss.backward()\n",
    "    optimizer.step()\n",
    "\n",
    "    # 損失を記録\n",
    "    loss_train += loss.item()\n",
    " \n",
    "  # バッチ単位の平均損失計算\n",
    "  loss_train = loss_train / i\n",
    "\n",
    "  # 検証データの損失計算\n",
    "  model.eval() \n",
    "  with torch.no_grad():\n",
    "    inputs, labels = next(iter(dataloader_valid)) # データローダーから順に取り出す\n",
    "    outputs = model(inputs) # 予測値を取得\n",
    "    loss_valid = criterion(outputs, labels) # 損失計算\n",
    "\n",
    "  # ログを出力\n",
    "  print(f'epoch: {epoch + 1}, loss_train: {loss_train:.4f}, loss_valid: {loss_valid:.4f}')"
   ]
  },
  {
   "attachments": {},
   "cell_type": "markdown",
   "metadata": {},
   "source": [
    "74.正解率の計算"
   ]
  },
  {
   "cell_type": "code",
   "execution_count": 20,
   "metadata": {},
   "outputs": [],
   "source": [
    "def calculate_accuracy(model, loader):\n",
    "  model.eval() # モデルを評価モードに設定\n",
    "  total = 0\n",
    "  correct = 0\n",
    "  with torch.no_grad(): # 勾配計算を無効化し、モデルのパラメータが更新されないようにする\n",
    "    for inputs, labels in loader: # データローダーから、バッチごとにデータとラベルを取得\n",
    "      outputs = model(inputs) # 入力データの予測値を取得\n",
    "      pred = torch.argmax(outputs, dim=-1) # 予測値の中でもっとも確率の高いクラスを選択\n",
    "      total += len(inputs)\n",
    "      correct += (pred == labels).sum().item()\n",
    "      \n",
    "  return correct / total"
   ]
  },
  {
   "cell_type": "code",
   "execution_count": 21,
   "metadata": {},
   "outputs": [
    {
     "name": "stdout",
     "output_type": "stream",
     "text": [
      "正解率（学習データ）：0.926\n",
      "正解率（評価データ）：0.910\n"
     ]
    }
   ],
   "source": [
    "acc_train = calculate_accuracy(model, dataloader_train)\n",
    "acc_test = calculate_accuracy(model, dataloader_test)\n",
    "print(f'正解率（学習データ）：{acc_train:.3f}')\n",
    "print(f'正解率（評価データ）：{acc_test:.3f}')"
   ]
  },
  {
   "attachments": {},
   "cell_type": "markdown",
   "metadata": {},
   "source": [
    "75.損失と正解率のプロット"
   ]
  },
  {
   "cell_type": "code",
   "execution_count": 22,
   "metadata": {},
   "outputs": [],
   "source": [
    "def calculate_loss_and_accuracy(model, criterion, loader):\n",
    "  model.eval() # 評価モード\n",
    "  loss = 0.0\n",
    "  total = 0\n",
    "  correct = 0\n",
    "  with torch.no_grad():\n",
    "    for inputs, labels in loader:\n",
    "      outputs = model(inputs)\n",
    "      loss += criterion(outputs, labels).item()\n",
    "      pred = torch.argmax(outputs, dim=-1)\n",
    "      total += len(inputs)\n",
    "      correct += (pred == labels).sum().item()\n",
    "      \n",
    "  return loss / len(loader), correct / total"
   ]
  },
  {
   "cell_type": "code",
   "execution_count": 23,
   "metadata": {},
   "outputs": [
    {
     "name": "stdout",
     "output_type": "stream",
     "text": [
      "epoch: 1, loss_train: 0.3349, accuracy_train: 0.8831, loss_valid: 0.3130, accuracy_valid: 0.8906\n",
      "epoch: 2, loss_train: 0.2951, accuracy_train: 0.9003, loss_valid: 0.2785, accuracy_valid: 0.9018\n",
      "epoch: 3, loss_train: 0.2723, accuracy_train: 0.9100, loss_valid: 0.2627, accuracy_valid: 0.9033\n",
      "epoch: 4, loss_train: 0.2673, accuracy_train: 0.9093, loss_valid: 0.2618, accuracy_valid: 0.9048\n",
      "epoch: 5, loss_train: 0.2556, accuracy_train: 0.9147, loss_valid: 0.2573, accuracy_valid: 0.9093\n",
      "epoch: 6, loss_train: 0.2465, accuracy_train: 0.9179, loss_valid: 0.2531, accuracy_valid: 0.9093\n",
      "epoch: 7, loss_train: 0.2413, accuracy_train: 0.9190, loss_valid: 0.2542, accuracy_valid: 0.9085\n",
      "epoch: 8, loss_train: 0.2399, accuracy_train: 0.9211, loss_valid: 0.2540, accuracy_valid: 0.9085\n",
      "epoch: 9, loss_train: 0.2337, accuracy_train: 0.9214, loss_valid: 0.2552, accuracy_valid: 0.9070\n",
      "epoch: 10, loss_train: 0.2349, accuracy_train: 0.9203, loss_valid: 0.2610, accuracy_valid: 0.9033\n",
      "epoch: 11, loss_train: 0.2295, accuracy_train: 0.9222, loss_valid: 0.2565, accuracy_valid: 0.9100\n",
      "epoch: 12, loss_train: 0.2283, accuracy_train: 0.9227, loss_valid: 0.2580, accuracy_valid: 0.9093\n",
      "epoch: 13, loss_train: 0.2261, accuracy_train: 0.9242, loss_valid: 0.2573, accuracy_valid: 0.9100\n",
      "epoch: 14, loss_train: 0.2247, accuracy_train: 0.9244, loss_valid: 0.2564, accuracy_valid: 0.9100\n",
      "epoch: 15, loss_train: 0.2289, accuracy_train: 0.9216, loss_valid: 0.2684, accuracy_valid: 0.9025\n",
      "epoch: 16, loss_train: 0.2235, accuracy_train: 0.9234, loss_valid: 0.2614, accuracy_valid: 0.9040\n",
      "epoch: 17, loss_train: 0.2240, accuracy_train: 0.9240, loss_valid: 0.2656, accuracy_valid: 0.9055\n",
      "epoch: 18, loss_train: 0.2197, accuracy_train: 0.9255, loss_valid: 0.2623, accuracy_valid: 0.9078\n",
      "epoch: 19, loss_train: 0.2250, accuracy_train: 0.9219, loss_valid: 0.2683, accuracy_valid: 0.9010\n",
      "epoch: 20, loss_train: 0.2177, accuracy_train: 0.9274, loss_valid: 0.2614, accuracy_valid: 0.9070\n",
      "epoch: 21, loss_train: 0.2202, accuracy_train: 0.9249, loss_valid: 0.2656, accuracy_valid: 0.9100\n",
      "epoch: 22, loss_train: 0.2165, accuracy_train: 0.9274, loss_valid: 0.2645, accuracy_valid: 0.9070\n",
      "epoch: 23, loss_train: 0.2227, accuracy_train: 0.9222, loss_valid: 0.2707, accuracy_valid: 0.9033\n",
      "epoch: 24, loss_train: 0.2193, accuracy_train: 0.9253, loss_valid: 0.2690, accuracy_valid: 0.9048\n",
      "epoch: 25, loss_train: 0.2163, accuracy_train: 0.9266, loss_valid: 0.2677, accuracy_valid: 0.9070\n",
      "epoch: 26, loss_train: 0.2193, accuracy_train: 0.9238, loss_valid: 0.2756, accuracy_valid: 0.9018\n",
      "epoch: 27, loss_train: 0.2174, accuracy_train: 0.9250, loss_valid: 0.2706, accuracy_valid: 0.9078\n",
      "epoch: 28, loss_train: 0.2150, accuracy_train: 0.9258, loss_valid: 0.2697, accuracy_valid: 0.9040\n",
      "epoch: 29, loss_train: 0.2150, accuracy_train: 0.9261, loss_valid: 0.2680, accuracy_valid: 0.9033\n",
      "epoch: 30, loss_train: 0.2135, accuracy_train: 0.9281, loss_valid: 0.2683, accuracy_valid: 0.9078\n"
     ]
    }
   ],
   "source": [
    "# モデルの定義\n",
    "model = SLPNet(300, 4)\n",
    "\n",
    "# 損失関数の定義\n",
    "criterion = nn.CrossEntropyLoss()\n",
    "\n",
    "# オプティマイザの定義\n",
    "optimizer = torch.optim.SGD(model.parameters(), lr=1e-1)\n",
    "\n",
    "# 学習\n",
    "num_epochs = 20\n",
    "log_train = []\n",
    "log_valid = []\n",
    "for epoch in range(num_epochs):\n",
    "  # 訓練モードに設定\n",
    "  model.train()\n",
    "  for inputs, labels in dataloader_train:\n",
    "    # 勾配をゼロで初期化\n",
    "    optimizer.zero_grad()\n",
    "\n",
    "    # 順伝播 + 誤差逆伝播 + 重み更新\n",
    "    outputs = model(inputs)\n",
    "    loss = criterion(outputs, labels)\n",
    "    loss.backward()\n",
    "    optimizer.step()\n",
    " \n",
    "  # 損失と正解率の算出\n",
    "  loss_train, acc_train = calculate_loss_and_accuracy(model, criterion, dataloader_train)\n",
    "  loss_valid, acc_valid = calculate_loss_and_accuracy(model, criterion, dataloader_valid)\n",
    "  # エポックごとに損失、正解率を保存\n",
    "  log_train.append([loss_train, acc_train])\n",
    "  log_valid.append([loss_valid, acc_valid])\n",
    "\n",
    "  # ログを出力\n",
    "  print(f'epoch: {epoch + 1}, loss_train: {loss_train:.4f}, accuracy_train: {acc_train:.4f}, loss_valid: {loss_valid:.4f}, accuracy_valid: {acc_valid:.4f}')  "
   ]
  },
  {
   "cell_type": "code",
   "execution_count": 29,
   "metadata": {},
   "outputs": [],
   "source": [
    "from matplotlib import pyplot as plt\n",
    "import numpy as np"
   ]
  },
  {
   "cell_type": "code",
   "execution_count": 30,
   "metadata": {},
   "outputs": [
    {
     "data": {
      "image/png": "[encoded data removed]",
      "text/plain": [
       "<Figure size 1500x500 with 2 Axes>"
      ]
     },
     "metadata": {},
     "output_type": "display_data"
    }
   ],
   "source": [
    "# 視覚化\n",
    "fig, ax = plt.subplots(1, 2, figsize=(15, 5))\n",
    "ax[0].plot(np.array(log_train).T[0], label='train')\n",
    "ax[0].plot(np.array(log_valid).T[0], label='valid')\n",
    "ax[0].set_xlabel('epoch')\n",
    "ax[0].set_ylabel('loss')\n",
    "ax[0].legend()\n",
    "ax[1].plot(np.array(log_train).T[1], label='train')\n",
    "ax[1].plot(np.array(log_valid).T[1], label='valid')\n",
    "ax[1].set_xlabel('epoch')\n",
    "ax[1].set_ylabel('accuracy')\n",
    "ax[1].legend()\n",
    "plt.show()"
   ]
  },
  {
   "attachments": {},
   "cell_type": "markdown",
   "metadata": {},
   "source": [
    "76.チェックポイント"
   ]
  },
  {
   "cell_type": "code",
   "execution_count": 32,
   "metadata": {},
   "outputs": [
    {
     "name": "stdout",
     "output_type": "stream",
     "text": [
      "epoch: 1, loss_train: 0.3450, accuracy_train: 0.8785, loss_valid: 0.3293, accuracy_valid: 0.8846\n",
      "epoch: 2, loss_train: 0.2947, accuracy_train: 0.8987, loss_valid: 0.2868, accuracy_valid: 0.8988\n",
      "epoch: 3, loss_train: 0.2757, accuracy_train: 0.9047, loss_valid: 0.2723, accuracy_valid: 0.9003\n",
      "epoch: 4, loss_train: 0.2682, accuracy_train: 0.9094, loss_valid: 0.2690, accuracy_valid: 0.9070\n",
      "epoch: 5, loss_train: 0.2530, accuracy_train: 0.9126, loss_valid: 0.2649, accuracy_valid: 0.9033\n",
      "epoch: 6, loss_train: 0.2471, accuracy_train: 0.9162, loss_valid: 0.2594, accuracy_valid: 0.9048\n",
      "epoch: 7, loss_train: 0.2415, accuracy_train: 0.9177, loss_valid: 0.2597, accuracy_valid: 0.9025\n",
      "epoch: 8, loss_train: 0.2407, accuracy_train: 0.9165, loss_valid: 0.2634, accuracy_valid: 0.9048\n",
      "epoch: 9, loss_train: 0.2373, accuracy_train: 0.9201, loss_valid: 0.2570, accuracy_valid: 0.9040\n",
      "epoch: 10, loss_train: 0.2311, accuracy_train: 0.9212, loss_valid: 0.2558, accuracy_valid: 0.9063\n",
      "epoch: 11, loss_train: 0.2299, accuracy_train: 0.9200, loss_valid: 0.2605, accuracy_valid: 0.9048\n",
      "epoch: 12, loss_train: 0.2273, accuracy_train: 0.9236, loss_valid: 0.2563, accuracy_valid: 0.9070\n",
      "epoch: 13, loss_train: 0.2261, accuracy_train: 0.9212, loss_valid: 0.2581, accuracy_valid: 0.9048\n",
      "epoch: 14, loss_train: 0.2264, accuracy_train: 0.9219, loss_valid: 0.2637, accuracy_valid: 0.9063\n",
      "epoch: 15, loss_train: 0.2258, accuracy_train: 0.9231, loss_valid: 0.2600, accuracy_valid: 0.9078\n",
      "epoch: 16, loss_train: 0.2209, accuracy_train: 0.9249, loss_valid: 0.2601, accuracy_valid: 0.9055\n",
      "epoch: 17, loss_train: 0.2206, accuracy_train: 0.9262, loss_valid: 0.2615, accuracy_valid: 0.9048\n",
      "epoch: 18, loss_train: 0.2209, accuracy_train: 0.9230, loss_valid: 0.2664, accuracy_valid: 0.9048\n",
      "epoch: 19, loss_train: 0.2189, accuracy_train: 0.9244, loss_valid: 0.2627, accuracy_valid: 0.9025\n",
      "epoch: 20, loss_train: 0.2210, accuracy_train: 0.9249, loss_valid: 0.2658, accuracy_valid: 0.9055\n"
     ]
    }
   ],
   "source": [
    "# モデルの定義\n",
    "model = SLPNet(300, 4)\n",
    "\n",
    "# 損失関数の定義\n",
    "criterion = nn.CrossEntropyLoss()\n",
    "\n",
    "# オプティマイザの定義\n",
    "optimizer = torch.optim.SGD(model.parameters(), lr=1e-1)\n",
    "\n",
    "# 学習\n",
    "num_epochs = 20\n",
    "log_train = []\n",
    "log_valid = []\n",
    "for epoch in range(num_epochs):\n",
    "  # 訓練モードに設定\n",
    "  model.train()\n",
    "  for inputs, labels in dataloader_train:\n",
    "    # 勾配をゼロで初期化\n",
    "    optimizer.zero_grad()\n",
    "\n",
    "    # 順伝播 + 誤差逆伝播 + 重み更新\n",
    "    outputs = model(inputs)\n",
    "    loss = criterion(outputs, labels)\n",
    "    loss.backward()\n",
    "    optimizer.step()\n",
    " \n",
    "  # 損失と正解率の算出\n",
    "  loss_train, acc_train = calculate_loss_and_accuracy(model, criterion, dataloader_train)\n",
    "  loss_valid, acc_valid = calculate_loss_and_accuracy(model, criterion, dataloader_valid)\n",
    "  log_train.append([loss_train, acc_train])\n",
    "  log_valid.append([loss_valid, acc_valid])\n",
    "\n",
    "  # チェックポイントの保存\n",
    "  # model.state_dict()で学習途中のパラメータ、optimizer.state_dict()で最適化アルゴリズムの内部状態にアクセス可能\n",
    "  torch.save({'epoch': epoch, 'model_state_dict': model.state_dict(), 'optimizer_state_dict': optimizer.state_dict()}, f'checkpoint{epoch + 1}.pt')\n",
    "\n",
    "  # ログを出力\n",
    "  print(f'epoch: {epoch + 1}, loss_train: {loss_train:.4f}, accuracy_train: {acc_train:.4f}, loss_valid: {loss_valid:.4f}, accuracy_valid: {acc_valid:.4f}')  "
   ]
  },
  {
   "attachments": {},
   "cell_type": "markdown",
   "metadata": {},
   "source": [
    "77.ミニバッチ化"
   ]
  },
  {
   "cell_type": "code",
   "execution_count": 36,
   "metadata": {},
   "outputs": [],
   "source": [
    "import time\n",
    "\n",
    "def train_model(dataset_train, dataset_valid, batch_size, model, criterion, optimizer, num_epochs):\n",
    "  # dataloaderの作成\n",
    "  dataloader_train = DataLoader(dataset_train, batch_size=batch_size, shuffle=True)\n",
    "  dataloader_valid = DataLoader(dataset_valid, batch_size=len(dataset_valid), shuffle=False)\n",
    "\n",
    "  # 学習\n",
    "  log_train = []\n",
    "  log_valid = []\n",
    "  for epoch in range(num_epochs):\n",
    "    # 開始時刻の記録\n",
    "    s_time = time.time()\n",
    "\n",
    "    # 訓練モードに設定\n",
    "    model.train()\n",
    "    for inputs, labels in dataloader_train:\n",
    "      # 勾配をゼロで初期化\n",
    "      optimizer.zero_grad()\n",
    "\n",
    "      # 順伝播 + 誤差逆伝播 + 重み更新\n",
    "      outputs = model(inputs)\n",
    "      loss = criterion(outputs, labels)\n",
    "      loss.backward()\n",
    "      optimizer.step()\n",
    "  \n",
    "    # 損失と正解率の算出\n",
    "    loss_train, acc_train = calculate_loss_and_accuracy(model, criterion, dataloader_train)\n",
    "    loss_valid, acc_valid = calculate_loss_and_accuracy(model, criterion, dataloader_valid)\n",
    "    log_train.append([loss_train, acc_train])\n",
    "    log_valid.append([loss_valid, acc_valid])\n",
    "\n",
    "    # チェックポイントの保存\n",
    "    torch.save({'epoch': epoch, 'model_state_dict': model.state_dict(), 'optimizer_state_dict': optimizer.state_dict()}, f'checkpoint{epoch + 1}.pt')\n",
    "\n",
    "    # 終了時刻の記録\n",
    "    e_time = time.time()\n",
    "\n",
    "    # ログを出力\n",
    "    print(f'epoch: {epoch + 1}, loss_train: {loss_train:.4f}, accuracy_train: {acc_train:.4f}, loss_valid: {loss_valid:.4f}, accuracy_valid: {acc_valid:.4f}, time: {(e_time - s_time):.4f}sec') \n",
    "\n",
    "  return {'train': log_train, 'valid': log_valid}"
   ]
  },
  {
   "cell_type": "code",
   "execution_count": 37,
   "metadata": {},
   "outputs": [
    {
     "name": "stdout",
     "output_type": "stream",
     "text": [
      "バッチサイズ: 1\n",
      "epoch: 1, loss_train: 0.3400, accuracy_train: 0.8854, loss_valid: 0.3185, accuracy_valid: 0.8921, time: 2.8572sec\n",
      "バッチサイズ: 2\n",
      "epoch: 1, loss_train: 0.3096, accuracy_train: 0.8931, loss_valid: 0.2957, accuracy_valid: 0.8936, time: 1.5546sec\n",
      "バッチサイズ: 4\n",
      "epoch: 1, loss_train: 0.3010, accuracy_train: 0.8948, loss_valid: 0.2908, accuracy_valid: 0.8951, time: 0.8406sec\n",
      "バッチサイズ: 8\n",
      "epoch: 1, loss_train: 0.2954, accuracy_train: 0.8990, loss_valid: 0.2832, accuracy_valid: 0.9003, time: 0.4737sec\n",
      "バッチサイズ: 16\n",
      "epoch: 1, loss_train: 0.2935, accuracy_train: 0.8994, loss_valid: 0.2821, accuracy_valid: 0.9003, time: 0.2932sec\n",
      "バッチサイズ: 32\n",
      "epoch: 1, loss_train: 0.2925, accuracy_train: 0.8997, loss_valid: 0.2813, accuracy_valid: 0.9018, time: 0.3114sec\n",
      "バッチサイズ: 64\n",
      "epoch: 1, loss_train: 0.2921, accuracy_train: 0.8997, loss_valid: 0.2811, accuracy_valid: 0.9025, time: 0.1520sec\n",
      "バッチサイズ: 128\n",
      "epoch: 1, loss_train: 0.2919, accuracy_train: 0.8996, loss_valid: 0.2810, accuracy_valid: 0.9025, time: 0.1309sec\n",
      "バッチサイズ: 256\n",
      "epoch: 1, loss_train: 0.2915, accuracy_train: 0.8996, loss_valid: 0.2809, accuracy_valid: 0.9025, time: 0.1150sec\n",
      "バッチサイズ: 512\n",
      "epoch: 1, loss_train: 0.2920, accuracy_train: 0.8996, loss_valid: 0.2809, accuracy_valid: 0.9025, time: 0.1022sec\n",
      "バッチサイズ: 1024\n",
      "epoch: 1, loss_train: 0.2939, accuracy_train: 0.8996, loss_valid: 0.2809, accuracy_valid: 0.9025, time: 0.0962sec\n"
     ]
    }
   ],
   "source": [
    "# datasetの作成\n",
    "dataset_train = NewsDataset(X_train, y_train)\n",
    "dataset_valid = NewsDataset(X_valid, y_valid)\n",
    "\n",
    "# モデルの定義\n",
    "model = SLPNet(300, 4)\n",
    "\n",
    "# 損失関数の定義\n",
    "criterion = nn.CrossEntropyLoss()\n",
    "\n",
    "# オプティマイザの定義\n",
    "optimizer = torch.optim.SGD(model.parameters(), lr=1e-1)\n",
    "\n",
    "# モデルの学習\n",
    "for batch_size in [2 ** i for i in range(11)]:\n",
    "  print(f'バッチサイズ: {batch_size}')\n",
    "  log = train_model(dataset_train, dataset_valid, batch_size, model, criterion, optimizer, 1)"
   ]
  },
  {
   "attachments": {},
   "cell_type": "markdown",
   "metadata": {},
   "source": [
    "78.GPU上での学習"
   ]
  },
  {
   "cell_type": "code",
   "execution_count": 39,
   "metadata": {},
   "outputs": [],
   "source": [
    "def calculate_loss_and_accuracy(model, criterion, loader, device):\n",
    "  model.eval()\n",
    "  loss = 0.0\n",
    "  total = 0\n",
    "  correct = 0\n",
    "  with torch.no_grad():\n",
    "    for inputs, labels in loader:\n",
    "      inputs = inputs.to(device)\n",
    "      labels = labels.to(device)\n",
    "      outputs = model(inputs)\n",
    "      loss += criterion(outputs, labels).item()\n",
    "      pred = torch.argmax(outputs, dim=-1)\n",
    "      total += len(inputs)\n",
    "      correct += (pred == labels).sum().item()\n",
    "      \n",
    "  return loss / len(loader), correct / total\n",
    "  \n",
    "\n",
    "def train_model(dataset_train, dataset_valid, batch_size, model, criterion, optimizer, num_epochs, device=None):\n",
    "  # GPUに送る\n",
    "  model.to(device)\n",
    "\n",
    "  # dataloaderの作成\n",
    "  dataloader_train = DataLoader(dataset_train, batch_size=batch_size, shuffle=True)\n",
    "  dataloader_valid = DataLoader(dataset_valid, batch_size=len(dataset_valid), shuffle=False)\n",
    "\n",
    "  # 学習\n",
    "  log_train = []\n",
    "  log_valid = []\n",
    "  for epoch in range(num_epochs):\n",
    "    # 開始時刻の記録\n",
    "    s_time = time.time()\n",
    "\n",
    "    # 訓練モードに設定\n",
    "    model.train()\n",
    "    for inputs, labels in dataloader_train:\n",
    "      # 勾配をゼロで初期化\n",
    "      optimizer.zero_grad()\n",
    "\n",
    "      # 順伝播 + 誤差逆伝播 + 重み更新\n",
    "      inputs = inputs.to(device)\n",
    "      labels = labels.to(device)\n",
    "      outputs = model.forward(inputs)\n",
    "      loss = criterion(outputs, labels)\n",
    "      loss.backward()\n",
    "      optimizer.step()\n",
    "    \n",
    "    # 損失と正解率の算出\n",
    "    loss_train, acc_train = calculate_loss_and_accuracy(model, criterion, dataloader_train, device)\n",
    "    loss_valid, acc_valid = calculate_loss_and_accuracy(model, criterion, dataloader_valid, device)\n",
    "    log_train.append([loss_train, acc_train])\n",
    "    log_valid.append([loss_valid, acc_valid])\n",
    "\n",
    "    # チェックポイントの保存\n",
    "    torch.save({'epoch': epoch, 'model_state_dict': model.state_dict(), 'optimizer_state_dict': optimizer.state_dict()}, f'checkpoint{epoch + 1}.pt')\n",
    "\n",
    "    # 終了時刻の記録\n",
    "    e_time = time.time()\n",
    "\n",
    "    # ログを出力\n",
    "    print(f'epoch: {epoch + 1}, loss_train: {loss_train:.4f}, accuracy_train: {acc_train:.4f}, loss_valid: {loss_valid:.4f}, accuracy_valid: {acc_valid:.4f}, time: {(e_time - s_time):.4f}sec') \n",
    "\n",
    "  return {'train': log_train, 'valid': log_valid}"
   ]
  },
  {
   "cell_type": "code",
   "execution_count": 41,
   "metadata": {},
   "outputs": [
    {
     "name": "stdout",
     "output_type": "stream",
     "text": [
      "バッチサイズ: 1\n",
      "epoch: 1, loss_train: 0.3366, accuracy_train: 0.8825, loss_valid: 0.3292, accuracy_valid: 0.8853, time: 2.9194sec\n",
      "バッチサイズ: 2\n",
      "epoch: 1, loss_train: 0.3059, accuracy_train: 0.8943, loss_valid: 0.3032, accuracy_valid: 0.8928, time: 1.5675sec\n",
      "バッチサイズ: 4\n",
      "epoch: 1, loss_train: 0.2970, accuracy_train: 0.8970, loss_valid: 0.2951, accuracy_valid: 0.8981, time: 0.8479sec\n",
      "バッチサイズ: 8\n",
      "epoch: 1, loss_train: 0.2927, accuracy_train: 0.9006, loss_valid: 0.2910, accuracy_valid: 0.9003, time: 0.4833sec\n",
      "バッチサイズ: 16\n",
      "epoch: 1, loss_train: 0.2907, accuracy_train: 0.9014, loss_valid: 0.2902, accuracy_valid: 0.9003, time: 0.2938sec\n",
      "バッチサイズ: 32\n",
      "epoch: 1, loss_train: 0.2902, accuracy_train: 0.9017, loss_valid: 0.2894, accuracy_valid: 0.8988, time: 0.1986sec\n",
      "バッチサイズ: 64\n",
      "epoch: 1, loss_train: 0.2895, accuracy_train: 0.9017, loss_valid: 0.2890, accuracy_valid: 0.9003, time: 0.1527sec\n",
      "バッチサイズ: 128\n",
      "epoch: 1, loss_train: 0.2896, accuracy_train: 0.9017, loss_valid: 0.2889, accuracy_valid: 0.9003, time: 0.1299sec\n",
      "バッチサイズ: 256\n",
      "epoch: 1, loss_train: 0.2890, accuracy_train: 0.9016, loss_valid: 0.2888, accuracy_valid: 0.9003, time: 0.1155sec\n",
      "バッチサイズ: 512\n",
      "epoch: 1, loss_train: 0.2895, accuracy_train: 0.9017, loss_valid: 0.2888, accuracy_valid: 0.9003, time: 0.1022sec\n",
      "バッチサイズ: 1024\n",
      "epoch: 1, loss_train: 0.2881, accuracy_train: 0.9016, loss_valid: 0.2887, accuracy_valid: 0.9003, time: 0.2072sec\n"
     ]
    }
   ],
   "source": [
    "# datasetの作成\n",
    "dataset_train = NewsDataset(X_train, y_train)\n",
    "dataset_valid = NewsDataset(X_valid, y_valid)\n",
    "\n",
    "# モデルの定義\n",
    "model = SLPNet(300, 4)\n",
    "\n",
    "# 損失関数の定義\n",
    "criterion = nn.CrossEntropyLoss()\n",
    "\n",
    "# オプティマイザの定義\n",
    "optimizer = torch.optim.SGD(model.parameters(), lr=1e-1)\n",
    "\n",
    "# モデルの学習\n",
    "for batch_size in [2 ** i for i in range(11)]:\n",
    "  print(f'バッチサイズ: {batch_size}')\n",
    "  log = train_model(dataset_train, dataset_valid, batch_size, model, criterion, optimizer, 1)"
   ]
  },
  {
   "attachments": {},
   "cell_type": "markdown",
   "metadata": {},
   "source": [
    "79.多層ニューラルネットワーク"
   ]
  },
  {
   "cell_type": "code",
   "execution_count": 42,
   "metadata": {},
   "outputs": [],
   "source": [
    "from torch.nn import functional as F\n",
    "\n",
    "class MLPNet(nn.Module):\n",
    "  def __init__(self, input_size, mid_size, output_size, mid_layers):\n",
    "    super().__init__()\n",
    "    self.mid_layers = mid_layers\n",
    "    self.fc = nn.Linear(input_size, mid_size)\n",
    "    self.fc_mid = nn.Linear(mid_size, mid_size)\n",
    "    self.fc_out = nn.Linear(mid_size, output_size) \n",
    "    self.bn = nn.BatchNorm1d(mid_size)\n",
    "\n",
    "  def forward(self, x):\n",
    "    x = F.relu(self.fc(x))\n",
    "    for _ in range(self.mid_layers):\n",
    "      x = F.relu(self.bn(self.fc_mid(x)))\n",
    "    x = F.relu(self.fc_out(x))\n",
    " \n",
    "    return x"
   ]
  },
  {
   "cell_type": "code",
   "execution_count": 43,
   "metadata": {},
   "outputs": [],
   "source": [
    "from torch import optim\n",
    "\n",
    "def calculate_loss_and_accuracy(model, criterion, loader, device):\n",
    "  model.eval()\n",
    "  loss = 0.0\n",
    "  total = 0\n",
    "  correct = 0\n",
    "  with torch.no_grad():\n",
    "    for inputs, labels in loader:\n",
    "      inputs = inputs.to(device)\n",
    "      labels = labels.to(device)\n",
    "      outputs = model(inputs)\n",
    "      loss += criterion(outputs, labels).item()\n",
    "      pred = torch.argmax(outputs, dim=-1)\n",
    "      total += len(inputs)\n",
    "      correct += (pred == labels).sum().item()\n",
    "      \n",
    "  return loss / len(loader), correct / total\n",
    "  \n",
    "\n",
    "def train_model(dataset_train, dataset_valid, batch_size, model, criterion, optimizer, num_epochs, device=None):\n",
    "  # GPUに送る\n",
    "  model.to(device)\n",
    "\n",
    "  # dataloaderの作成\n",
    "  dataloader_train = DataLoader(dataset_train, batch_size=batch_size, shuffle=True)\n",
    "  dataloader_valid = DataLoader(dataset_valid, batch_size=len(dataset_valid), shuffle=False)\n",
    "\n",
    "  # スケジューラの設定\n",
    "  scheduler = optim.lr_scheduler.CosineAnnealingLR(optimizer, num_epochs, eta_min=1e-5, last_epoch=-1)\n",
    "\n",
    "  # 学習\n",
    "  log_train = []\n",
    "  log_valid = []\n",
    "  for epoch in range(num_epochs):\n",
    "    # 開始時刻の記録\n",
    "    s_time = time.time()\n",
    "\n",
    "    # 訓練モードに設定\n",
    "    model.train()\n",
    "    for inputs, labels in dataloader_train:\n",
    "      # 勾配をゼロで初期化\n",
    "      optimizer.zero_grad()\n",
    "\n",
    "      # 順伝播 + 誤差逆伝播 + 重み更新\n",
    "      inputs = inputs.to(device)\n",
    "      labels = labels.to(device)\n",
    "      outputs = model.forward(inputs)\n",
    "      loss = criterion(outputs, labels)\n",
    "      loss.backward()\n",
    "      optimizer.step()\n",
    "    \n",
    "    # 損失と正解率の算出\n",
    "    loss_train, acc_train = calculate_loss_and_accuracy(model, criterion, dataloader_train, device)\n",
    "    loss_valid, acc_valid = calculate_loss_and_accuracy(model, criterion, dataloader_valid, device)\n",
    "    log_train.append([loss_train, acc_train])\n",
    "    log_valid.append([loss_valid, acc_valid])\n",
    "\n",
    "    # チェックポイントの保存\n",
    "    torch.save({'epoch': epoch, 'model_state_dict': model.state_dict(), 'optimizer_state_dict': optimizer.state_dict()}, f'checkpoint{epoch + 1}.pt')\n",
    "\n",
    "    # 終了時刻の記録\n",
    "    e_time = time.time()\n",
    "\n",
    "    # ログを出力\n",
    "    print(f'epoch: {epoch + 1}, loss_train: {loss_train:.4f}, accuracy_train: {acc_train:.4f}, loss_valid: {loss_valid:.4f}, accuracy_valid: {acc_valid:.4f}, {(e_time - s_time):.4f}sec') \n",
    "\n",
    "    # 検証データの損失が3エポック連続で低下しなかった場合は学習終了\n",
    "    if epoch > 2 and log_valid[epoch - 3][0] <= log_valid[epoch - 2][0] <= log_valid[epoch - 1][0] <= log_valid[epoch][0]:\n",
    "      break\n",
    "\n",
    "    # スケジューラを1ステップ進める\n",
    "    scheduler.step()\n",
    "\n",
    "  return {'train': log_train, 'valid': log_valid}"
   ]
  },
  {
   "cell_type": "code",
   "execution_count": 44,
   "metadata": {},
   "outputs": [
    {
     "name": "stdout",
     "output_type": "stream",
     "text": [
      "epoch: 1, loss_train: 1.0296, accuracy_train: 0.7152, loss_valid: 1.0272, accuracy_valid: 0.7166, 3.0192sec\n",
      "epoch: 2, loss_train: 0.7498, accuracy_train: 0.7659, loss_valid: 0.7555, accuracy_valid: 0.7624, 0.6326sec\n",
      "epoch: 3, loss_train: 0.6646, accuracy_train: 0.7746, loss_valid: 0.6729, accuracy_valid: 0.7699, 0.6316sec\n",
      "epoch: 4, loss_train: 0.6265, accuracy_train: 0.7808, loss_valid: 0.6350, accuracy_valid: 0.7766, 0.6369sec\n",
      "epoch: 5, loss_train: 0.5984, accuracy_train: 0.7828, loss_valid: 0.6066, accuracy_valid: 0.7789, 0.6411sec\n",
      "epoch: 6, loss_train: 0.5720, accuracy_train: 0.7871, loss_valid: 0.5794, accuracy_valid: 0.7834, 0.6120sec\n",
      "epoch: 7, loss_train: 0.5507, accuracy_train: 0.7941, loss_valid: 0.5582, accuracy_valid: 0.7901, 0.6261sec\n",
      "epoch: 8, loss_train: 0.5239, accuracy_train: 0.8098, loss_valid: 0.5307, accuracy_valid: 0.8028, 0.6187sec\n",
      "epoch: 9, loss_train: 0.5034, accuracy_train: 0.8177, loss_valid: 0.5092, accuracy_valid: 0.8103, 0.6184sec\n",
      "epoch: 10, loss_train: 0.4841, accuracy_train: 0.8264, loss_valid: 0.4891, accuracy_valid: 0.8171, 0.6256sec\n",
      "epoch: 11, loss_train: 0.4704, accuracy_train: 0.8321, loss_valid: 0.4743, accuracy_valid: 0.8253, 0.6357sec\n",
      "epoch: 12, loss_train: 0.4562, accuracy_train: 0.8359, loss_valid: 0.4599, accuracy_valid: 0.8283, 0.6210sec\n",
      "epoch: 13, loss_train: 0.4462, accuracy_train: 0.8400, loss_valid: 0.4503, accuracy_valid: 0.8298, 0.3814sec\n",
      "epoch: 14, loss_train: 0.4379, accuracy_train: 0.8423, loss_valid: 0.4417, accuracy_valid: 0.8351, 0.6030sec\n",
      "epoch: 15, loss_train: 0.4275, accuracy_train: 0.8458, loss_valid: 0.4316, accuracy_valid: 0.8351, 0.6370sec\n",
      "epoch: 16, loss_train: 0.4204, accuracy_train: 0.8460, loss_valid: 0.4245, accuracy_valid: 0.8396, 0.6479sec\n",
      "epoch: 17, loss_train: 0.4132, accuracy_train: 0.8472, loss_valid: 0.4180, accuracy_valid: 0.8433, 0.6471sec\n",
      "epoch: 18, loss_train: 0.4066, accuracy_train: 0.8487, loss_valid: 0.4112, accuracy_valid: 0.8418, 0.6221sec\n",
      "epoch: 19, loss_train: 0.3996, accuracy_train: 0.8497, loss_valid: 0.4058, accuracy_valid: 0.8448, 0.6539sec\n",
      "epoch: 20, loss_train: 0.3938, accuracy_train: 0.8509, loss_valid: 0.3990, accuracy_valid: 0.8463, 0.6214sec\n",
      "epoch: 21, loss_train: 0.3891, accuracy_train: 0.8537, loss_valid: 0.3950, accuracy_valid: 0.8471, 0.6412sec\n",
      "epoch: 22, loss_train: 0.3836, accuracy_train: 0.8531, loss_valid: 0.3906, accuracy_valid: 0.8493, 0.6376sec\n",
      "epoch: 23, loss_train: 0.3805, accuracy_train: 0.8569, loss_valid: 0.3887, accuracy_valid: 0.8493, 0.6424sec\n",
      "epoch: 24, loss_train: 0.3737, accuracy_train: 0.8596, loss_valid: 0.3830, accuracy_valid: 0.8508, 0.6472sec\n",
      "epoch: 25, loss_train: 0.3692, accuracy_train: 0.8631, loss_valid: 0.3796, accuracy_valid: 0.8561, 0.6405sec\n",
      "epoch: 26, loss_train: 0.3626, accuracy_train: 0.8707, loss_valid: 0.3738, accuracy_valid: 0.8681, 0.6354sec\n",
      "epoch: 27, loss_train: 0.3518, accuracy_train: 0.8819, loss_valid: 0.3642, accuracy_valid: 0.8778, 0.6407sec\n",
      "epoch: 28, loss_train: 0.3365, accuracy_train: 0.8931, loss_valid: 0.3478, accuracy_valid: 0.8883, 0.6448sec\n",
      "epoch: 29, loss_train: 0.3238, accuracy_train: 0.8979, loss_valid: 0.3339, accuracy_valid: 0.8966, 0.6167sec\n",
      "epoch: 30, loss_train: 0.3151, accuracy_train: 0.9016, loss_valid: 0.3256, accuracy_valid: 0.9003, 0.6468sec\n",
      "epoch: 31, loss_train: 0.3072, accuracy_train: 0.9033, loss_valid: 0.3200, accuracy_valid: 0.9025, 0.6445sec\n",
      "epoch: 32, loss_train: 0.3008, accuracy_train: 0.9045, loss_valid: 0.3139, accuracy_valid: 0.9018, 0.6738sec\n",
      "epoch: 33, loss_train: 0.2932, accuracy_train: 0.9062, loss_valid: 0.3071, accuracy_valid: 0.9070, 0.6479sec\n",
      "epoch: 34, loss_train: 0.2888, accuracy_train: 0.9096, loss_valid: 0.3030, accuracy_valid: 0.9055, 0.6405sec\n",
      "epoch: 35, loss_train: 0.2839, accuracy_train: 0.9108, loss_valid: 0.2979, accuracy_valid: 0.9055, 0.6292sec\n",
      "epoch: 36, loss_train: 0.2784, accuracy_train: 0.9116, loss_valid: 0.2952, accuracy_valid: 0.9055, 0.6424sec\n",
      "epoch: 37, loss_train: 0.2737, accuracy_train: 0.9121, loss_valid: 0.2914, accuracy_valid: 0.9048, 0.3212sec\n",
      "epoch: 38, loss_train: 0.2714, accuracy_train: 0.9112, loss_valid: 0.2913, accuracy_valid: 0.9078, 0.3032sec\n",
      "epoch: 39, loss_train: 0.2665, accuracy_train: 0.9134, loss_valid: 0.2860, accuracy_valid: 0.9070, 0.3024sec\n",
      "epoch: 40, loss_train: 0.2639, accuracy_train: 0.9141, loss_valid: 0.2838, accuracy_valid: 0.9070, 0.3028sec\n",
      "epoch: 41, loss_train: 0.2602, accuracy_train: 0.9143, loss_valid: 0.2829, accuracy_valid: 0.9055, 0.3026sec\n",
      "epoch: 42, loss_train: 0.2577, accuracy_train: 0.9139, loss_valid: 0.2823, accuracy_valid: 0.9048, 0.3023sec\n",
      "epoch: 43, loss_train: 0.2559, accuracy_train: 0.9155, loss_valid: 0.2796, accuracy_valid: 0.9055, 0.3027sec\n",
      "epoch: 44, loss_train: 0.2520, accuracy_train: 0.9164, loss_valid: 0.2774, accuracy_valid: 0.9063, 0.3025sec\n",
      "epoch: 45, loss_train: 0.2491, accuracy_train: 0.9170, loss_valid: 0.2748, accuracy_valid: 0.9055, 0.3023sec\n",
      "epoch: 46, loss_train: 0.2477, accuracy_train: 0.9164, loss_valid: 0.2743, accuracy_valid: 0.9033, 0.3038sec\n",
      "epoch: 47, loss_train: 0.2442, accuracy_train: 0.9174, loss_valid: 0.2729, accuracy_valid: 0.9048, 0.3029sec\n",
      "epoch: 48, loss_train: 0.2436, accuracy_train: 0.9176, loss_valid: 0.2725, accuracy_valid: 0.9063, 0.3028sec\n",
      "epoch: 49, loss_train: 0.2406, accuracy_train: 0.9188, loss_valid: 0.2729, accuracy_valid: 0.9033, 0.3030sec\n",
      "epoch: 50, loss_train: 0.2383, accuracy_train: 0.9197, loss_valid: 0.2708, accuracy_valid: 0.9040, 0.3030sec\n",
      "epoch: 51, loss_train: 0.2353, accuracy_train: 0.9200, loss_valid: 0.2682, accuracy_valid: 0.9010, 0.3023sec\n",
      "epoch: 52, loss_train: 0.2335, accuracy_train: 0.9206, loss_valid: 0.2678, accuracy_valid: 0.9018, 0.3613sec\n",
      "epoch: 53, loss_train: 0.2328, accuracy_train: 0.9218, loss_valid: 0.2670, accuracy_valid: 0.9048, 0.6946sec\n",
      "epoch: 54, loss_train: 0.2300, accuracy_train: 0.9230, loss_valid: 0.2673, accuracy_valid: 0.9025, 0.6384sec\n",
      "epoch: 55, loss_train: 0.2287, accuracy_train: 0.9234, loss_valid: 0.2653, accuracy_valid: 0.9085, 0.5330sec\n",
      "epoch: 56, loss_train: 0.2266, accuracy_train: 0.9245, loss_valid: 0.2666, accuracy_valid: 0.9033, 0.6365sec\n",
      "epoch: 57, loss_train: 0.2248, accuracy_train: 0.9248, loss_valid: 0.2642, accuracy_valid: 0.9070, 0.6471sec\n",
      "epoch: 58, loss_train: 0.2245, accuracy_train: 0.9247, loss_valid: 0.2642, accuracy_valid: 0.9055, 0.6374sec\n",
      "epoch: 59, loss_train: 0.2197, accuracy_train: 0.9263, loss_valid: 0.2624, accuracy_valid: 0.9063, 0.6416sec\n",
      "epoch: 60, loss_train: 0.2199, accuracy_train: 0.9267, loss_valid: 0.2636, accuracy_valid: 0.9063, 0.6494sec\n",
      "epoch: 61, loss_train: 0.2177, accuracy_train: 0.9272, loss_valid: 0.2616, accuracy_valid: 0.9063, 0.6366sec\n",
      "epoch: 62, loss_train: 0.2162, accuracy_train: 0.9270, loss_valid: 0.2623, accuracy_valid: 0.9078, 0.6403sec\n",
      "epoch: 63, loss_train: 0.2148, accuracy_train: 0.9287, loss_valid: 0.2611, accuracy_valid: 0.9063, 0.6359sec\n",
      "epoch: 64, loss_train: 0.2116, accuracy_train: 0.9295, loss_valid: 0.2594, accuracy_valid: 0.9040, 0.6389sec\n",
      "epoch: 65, loss_train: 0.2109, accuracy_train: 0.9298, loss_valid: 0.2597, accuracy_valid: 0.9078, 0.6376sec\n",
      "epoch: 66, loss_train: 0.2103, accuracy_train: 0.9299, loss_valid: 0.2606, accuracy_valid: 0.9085, 0.6264sec\n",
      "epoch: 67, loss_train: 0.2086, accuracy_train: 0.9295, loss_valid: 0.2608, accuracy_valid: 0.9070, 0.5695sec\n"
     ]
    }
   ],
   "source": [
    "# datasetの作成\n",
    "dataset_train = NewsDataset(X_train, y_train)\n",
    "dataset_valid = NewsDataset(X_valid, y_valid)\n",
    "\n",
    "# モデルの定義\n",
    "model = MLPNet(300, 200, 4, 1)\n",
    "\n",
    "# 損失関数の定義\n",
    "criterion = nn.CrossEntropyLoss()\n",
    "\n",
    "# オプティマイザの定義\n",
    "optimizer = torch.optim.SGD(model.parameters(), lr=1e-3)\n",
    "\n",
    "# デバイスの指定\n",
    "device = torch.device('cuda')\n",
    "\n",
    "# モデルの学習\n",
    "log = train_model(dataset_train, dataset_valid, 64, model, criterion, optimizer, 1000, device)"
   ]
  },
  {
   "cell_type": "code",
   "execution_count": 45,
   "metadata": {},
   "outputs": [],
   "source": [
    "def calculate_accuracy(model, loader, device):\n",
    "  model.eval()\n",
    "  total = 0\n",
    "  correct = 0\n",
    "  with torch.no_grad():\n",
    "    for inputs, labels in loader:\n",
    "      inputs = inputs.to(device)\n",
    "      labels = labels.to(device)\n",
    "      outputs = model(inputs)\n",
    "      pred = torch.argmax(outputs, dim=-1)\n",
    "      total += len(inputs)\n",
    "      correct += (pred == labels).sum().item()\n",
    "      \n",
    "  return correct / total"
   ]
  },
  {
   "cell_type": "code",
   "execution_count": 46,
   "metadata": {},
   "outputs": [
    {
     "name": "stdout",
     "output_type": "stream",
     "text": [
      "正解率（学習データ）：0.930\n",
      "正解率（評価データ）：0.918\n"
     ]
    }
   ],
   "source": [
    "# 正解率の確認\n",
    "acc_train = calculate_accuracy(model, dataloader_train, device)\n",
    "acc_test = calculate_accuracy(model, dataloader_test, device)\n",
    "print(f'正解率（学習データ）：{acc_train:.3f}')\n",
    "print(f'正解率（評価データ）：{acc_test:.3f}')"
   ]
  }
 ],
 "metadata": {
  "kernelspec": {
   "display_name": "NLP100",
   "language": "python",
   "name": "python3"
  },
  "language_info": {
   "codemirror_mode": {
    "name": "ipython",
    "version": 3
   },
   "file_extension": ".py",
   "mimetype": "text/x-python",
   "name": "python",
   "nbconvert_exporter": "python",
   "pygments_lexer": "ipython3",
   "version": "3.11.3"
  },
  "orig_nbformat": 4
 },
 "nbformat": 4,
 "nbformat_minor": 2
}
